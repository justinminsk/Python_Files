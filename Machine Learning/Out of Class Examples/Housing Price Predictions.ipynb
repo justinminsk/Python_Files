{
  "cells": [
    {
      "metadata": {
        "_cell_guid": "e81ee64d-e474-4662-9036-ce23df615199",
        "_uuid": "b6269c0e8f417f82daf093dda8fa0da6d2c57d86"
      },
      "cell_type": "markdown",
      "source": "Running through the tutorial. "
    },
    {
      "metadata": {
        "collapsed": true,
        "_cell_guid": "c97bcdf6-bef6-488c-a3b8-e3d7be75de6d",
        "_uuid": "95b8afdecb6d569b8cf159435fdae88cbab17d8e",
        "trusted": false
      },
      "cell_type": "code",
      "source": "import pandas as pd\nfrom sklearn.tree import DecisionTreeRegressor\nfrom sklearn.metrics import mean_absolute_error\nfrom sklearn.model_selection import train_test_split\nfrom sklearn.ensemble import RandomForestRegressor\nimport xgboost as xgb",
      "execution_count": null,
      "outputs": []
    },
    {
      "metadata": {
        "collapsed": true,
        "_cell_guid": "86b26423-563a-4fa1-a595-89e25ff93089",
        "_uuid": "1c728098629e1301643443b1341556a15c089b2b",
        "trusted": false
      },
      "cell_type": "code",
      "source": "main_file_path = '../input/train.csv'\ndata = pd.read_csv(main_file_path)\nprint(data.describe())",
      "execution_count": null,
      "outputs": []
    },
    {
      "metadata": {
        "collapsed": true,
        "_cell_guid": "0b608a99-d189-43a1-92dd-b774c879713f",
        "_uuid": "3662ada426286b1465a017fc10a6bdc40512e1ae",
        "trusted": false
      },
      "cell_type": "code",
      "source": "print(data.columns)",
      "execution_count": null,
      "outputs": []
    },
    {
      "metadata": {
        "collapsed": true,
        "_cell_guid": "557a96f8-3043-4bb0-84bf-1d946b8ef013",
        "_uuid": "922ff5b8e105ebc55edb545c38682080772ab34b",
        "trusted": false
      },
      "cell_type": "code",
      "source": "data_price = data.SalePrice\nprint(data_price.head())",
      "execution_count": null,
      "outputs": []
    },
    {
      "metadata": {
        "collapsed": true,
        "_cell_guid": "e777d065-6739-47ad-813e-b825f3d5ea41",
        "_uuid": "7b7908403af83a5820fb8807de1d031661aa8f1f",
        "trusted": false
      },
      "cell_type": "code",
      "source": "columns = ['LotFrontage', 'LotArea']\ntwo_columns_of_data = data[columns]\nprint(two_columns_of_data.describe())",
      "execution_count": null,
      "outputs": []
    },
    {
      "metadata": {
        "collapsed": true,
        "_cell_guid": "c839b5f0-8eb6-46dc-86e9-d46bae30db49",
        "_uuid": "c38d04bb5d11610e3799c7c25629184877b4e40a",
        "trusted": false
      },
      "cell_type": "code",
      "source": "y = data.SalePrice",
      "execution_count": null,
      "outputs": []
    },
    {
      "metadata": {
        "collapsed": true,
        "_cell_guid": "e735216a-9465-41fc-8ccf-d2d01721eb65",
        "_uuid": "133c001e644a28bc21373f8935699602bbe5178e",
        "trusted": false
      },
      "cell_type": "code",
      "source": "varible_columns = ['LotArea', 'YearBuilt', '1stFlrSF', '2ndFlrSF', 'FullBath', 'BedroomAbvGr', 'TotRmsAbvGrd']\nX = data[varible_columns]",
      "execution_count": null,
      "outputs": []
    },
    {
      "metadata": {
        "collapsed": true,
        "_cell_guid": "7ce59f33-af16-43e1-931d-d93afe4dc259",
        "_uuid": "959d2fe5e3d80aa08a306577778ec394bac21c78",
        "trusted": false
      },
      "cell_type": "code",
      "source": "data_model = DecisionTreeRegressor()\ndata_model.fit(X, y)",
      "execution_count": null,
      "outputs": []
    },
    {
      "metadata": {
        "collapsed": true,
        "_cell_guid": "9299d0cb-32c9-433a-bd47-5211d5e1a67c",
        "_uuid": "85020764516414d6a88be59fa79d950f9ae0a82f",
        "trusted": false
      },
      "cell_type": "code",
      "source": "print(\"Making predictions for the following 5 houses:\")\nprint(X.head())\nprint(\"The predictions are\")\nprint(data_model.predict(X.head()))",
      "execution_count": null,
      "outputs": []
    },
    {
      "metadata": {
        "collapsed": true,
        "_cell_guid": "331b83d7-841d-471c-bb4a-6a9205734674",
        "_uuid": "63c9973b8472d87df33b1f4a43dc9e42f7eca7ea",
        "trusted": false
      },
      "cell_type": "code",
      "source": "train_X, val_X, train_y, val_y = train_test_split(X, y,random_state = 0)\nmelbourne_model = DecisionTreeRegressor()\nmelbourne_model.fit(train_X, train_y)\nval_predictions = melbourne_model.predict(val_X)\nprint(mean_absolute_error(val_y, val_predictions))",
      "execution_count": null,
      "outputs": []
    },
    {
      "metadata": {
        "collapsed": true,
        "_cell_guid": "ff3b1945-4b23-4f79-af07-da2d25d0ffd8",
        "_uuid": "80ac7fdae4933e58bfbd1723f9c95facd1cf263d",
        "trusted": false
      },
      "cell_type": "code",
      "source": "def get_mae(max_leaf_nodes, predictors_train, predictors_val, targ_train, targ_val):\n    model = DecisionTreeRegressor(max_leaf_nodes=max_leaf_nodes, random_state=0)\n    model.fit(predictors_train, targ_train)\n    preds_val = model.predict(predictors_val)\n    mae = mean_absolute_error(targ_val, preds_val)\n    return(mae)",
      "execution_count": null,
      "outputs": []
    },
    {
      "metadata": {
        "collapsed": true,
        "_cell_guid": "7373eb05-f255-4981-be1e-0b57f5b4fcc2",
        "_uuid": "686025df9ad8e467abcef3e455fbf6b06f7ce696",
        "trusted": false
      },
      "cell_type": "code",
      "source": "for max_leaf_nodes in [5, 50, 500, 5000]:\n    my_mae = get_mae(max_leaf_nodes, train_X, val_X, train_y, val_y)\n    print(\"Max leaf nodes: %d  \\t\\t Mean Absolute Error:  %d\" %(max_leaf_nodes, my_mae))",
      "execution_count": null,
      "outputs": []
    },
    {
      "metadata": {
        "collapsed": true,
        "_cell_guid": "c5ce8588-0c5a-4dab-a6ce-bbc972531e86",
        "_uuid": "27ae436113d8189a46e1760aa16dd71c8d2617c5",
        "trusted": false
      },
      "cell_type": "code",
      "source": "forest_model = RandomForestRegressor()\nforest_model.fit(train_X, train_y)\nmelb_preds = forest_model.predict(val_X)\nprint(mean_absolute_error(val_y, melb_preds))",
      "execution_count": null,
      "outputs": []
    },
    {
      "metadata": {
        "collapsed": true,
        "_cell_guid": "9310aac6-595f-45dd-99a5-f72f83691271",
        "_uuid": "6718f29b5934d29e46a92ff0c4f67ff5548d2b61",
        "trusted": false
      },
      "cell_type": "code",
      "source": "predictor_cols = ['LotArea', 'YearBuilt', '1stFlrSF', '2ndFlrSF', 'FullBath', 'BedroomAbvGr', 'TotRmsAbvGrd']\nmy_model = RandomForestRegressor()\nmy_model.fit(train_X, train_y)\ntest = pd.read_csv('../input/test.csv')\ntest_X = test[predictor_cols]\npredicted_prices = my_model.predict(test_X)\nprint(predicted_prices)",
      "execution_count": null,
      "outputs": []
    },
    {
      "metadata": {
        "collapsed": true,
        "_cell_guid": "83a21bce-530a-46d8-8fde-d912e20716a1",
        "_uuid": "b15ebd897ba6430c922df4d2d8839da31757bbbf",
        "trusted": false
      },
      "cell_type": "code",
      "source": "my_submission = pd.DataFrame({'Id': test.Id, 'SalePrice': predicted_prices})\nmy_submission.to_csv('submission.csv', index=False)",
      "execution_count": null,
      "outputs": []
    },
    {
      "metadata": {
        "collapsed": true,
        "_cell_guid": "f85ce063-6aaf-4a44-bf63-295aa626b295",
        "_uuid": "c744ddb12e3d2157ffc7dcfbf632feb91cb6d10d",
        "trusted": false
      },
      "cell_type": "code",
      "source": "",
      "execution_count": null,
      "outputs": []
    }
  ],
  "metadata": {
    "kernelspec": {
      "display_name": "Python 3",
      "language": "python",
      "name": "python3"
    },
    "language_info": {
      "name": "python",
      "version": "3.6.4",
      "pygments_lexer": "ipython3",
      "mimetype": "text/x-python",
      "nbconvert_exporter": "python",
      "file_extension": ".py",
      "codemirror_mode": {
        "name": "ipython",
        "version": 3
      }
    }
  },
  "nbformat": 4,
  "nbformat_minor": 1
}