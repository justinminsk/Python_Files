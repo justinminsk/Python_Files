{
 "cells": [
  {
   "cell_type": "code",
   "execution_count": null,
   "metadata": {
    "_cell_guid": "cab224de-fe98-4f9f-823c-54b5239edf2a",
    "_uuid": "ec3574fd2d613f99686ec0a85194cad2055e1fc8"
   },
   "outputs": [],
   "source": [
    "import pandas as pd\n",
    "import matplotlib.pyplot as plt\n",
    "import seaborn as sns\n",
    "import re\n",
    "import numpy as np\n",
    "from sklearn import tree\n",
    "from sklearn.model_selection import train_test_split\n",
    "from sklearn.linear_model import LogisticRegression\n",
    "from sklearn.model_selection import GridSearchCV"
   ]
  },
  {
   "cell_type": "code",
   "execution_count": null,
   "metadata": {
    "_cell_guid": "d962e41f-2625-4af4-b4eb-5df05dc35b9e",
    "_uuid": "e064701af7a0d5bf832cedb9857d884908df60cf"
   },
   "outputs": [],
   "source": [
    "%matplotlib inline\n",
    "sns.set()"
   ]
  },
  {
   "cell_type": "code",
   "execution_count": null,
   "metadata": {
    "_cell_guid": "71a63443-ad90-49ff-8d6c-b4f9a20be313",
    "_uuid": "ff75a21a779d1c3cfbf7bd22defa3e4e59aca494"
   },
   "outputs": [],
   "source": [
    "df_train = pd.read_csv('train.csv')\n",
    "df_test = pd.read_csv('test.csv')"
   ]
  },
  {
   "cell_type": "code",
   "execution_count": null,
   "metadata": {
    "_cell_guid": "c665135d-dee9-40f3-9501-b9ae427755e4",
    "_uuid": "a7abcb7e8496b3fec24cb6fb722b35b92f404f58"
   },
   "outputs": [],
   "source": [
    "survived_train = df_train.Survived"
   ]
  },
  {
   "cell_type": "code",
   "execution_count": null,
   "metadata": {
    "_cell_guid": "5917a345-c68b-43c3-af39-53975dda6335",
    "_uuid": "732e93294c72d1fa41ed83dbcbf8d100f7462d88"
   },
   "outputs": [],
   "source": [
    "data = pd.concat([df_train.drop(['Survived'], axis=1), df_test])"
   ]
  },
  {
   "cell_type": "code",
   "execution_count": null,
   "metadata": {
    "_cell_guid": "75153160-f658-4a3e-bb4e-7512394884d7",
    "_uuid": "ece0ff0ce66d84eddc59126355f4db1db3e1bcd5"
   },
   "outputs": [],
   "source": [
    "data['Age'] = data.Age.fillna(data.Age.median())\n",
    "data['Fare'] = data.Fare.fillna(data.Fare.median())"
   ]
  },
  {
   "cell_type": "code",
   "execution_count": null,
   "metadata": {
    "_cell_guid": "d7c423b2-b7d0-4102-aa2d-b70672743f17",
    "_uuid": "de4571c4826bac77ba0c46a90f179ef08b097268"
   },
   "outputs": [],
   "source": [
    "data = pd.get_dummies(data, columns=['Sex'], drop_first=True)"
   ]
  },
  {
   "cell_type": "code",
   "execution_count": null,
   "metadata": {
    "_cell_guid": "1fe0dc7e-0cec-4447-8fcb-68b28959e9bd",
    "_uuid": "4a8a721a481546df9683267ae55db5a5eb735176"
   },
   "outputs": [],
   "source": [
    "data = data[['Sex_male', 'Fare', 'Age','Pclass', 'SibSp']]"
   ]
  },
  {
   "cell_type": "code",
   "execution_count": null,
   "metadata": {
    "_cell_guid": "0d1c5520-f3ef-4611-9e5e-58e9b6527144",
    "_uuid": "cf6153f2c53aa3fd0e475eda469f8b56fc72c677"
   },
   "outputs": [],
   "source": [
    "data_train = data.iloc[:891]\n",
    "data_test = data.iloc[891:]"
   ]
  },
  {
   "cell_type": "code",
   "execution_count": null,
   "metadata": {
    "_cell_guid": "235d52cf-d931-4488-8331-98d1dccd3e08",
    "_uuid": "3bae7db16b10ae6860c999459debab99a815151e"
   },
   "outputs": [],
   "source": [
    "X = data_train.values\n",
    "test = data_test.values\n",
    "y = survived_train.values"
   ]
  },
  {
   "cell_type": "code",
   "execution_count": null,
   "metadata": {
    "_cell_guid": "5f5995d5-9284-46aa-a74d-c23af027188e",
    "_uuid": "5a3ab0450a8e146a589b28f2d8c90e16a47032c4"
   },
   "outputs": [],
   "source": [
    "clf = tree.DecisionTreeClassifier(max_depth=3)\n",
    "clf.fit(X, y)"
   ]
  },
  {
   "cell_type": "code",
   "execution_count": null,
   "metadata": {
    "_cell_guid": "bb25c226-d23d-4cb2-88e0-b59d1af16a46",
    "_uuid": "5baa8db7c19b09688d9911561a850d794e39fb12"
   },
   "outputs": [],
   "source": [
    "Y_pred = clf.predict(test)\n",
    "df_test['Survived'] = Y_pred"
   ]
  },
  {
   "cell_type": "code",
   "execution_count": null,
   "metadata": {
    "_cell_guid": "df6018b8-1b58-4180-8188-c83faf050a1a",
    "_uuid": "74ef4b9cc66d02fc40dad154bab6398fa67058b3"
   },
   "outputs": [],
   "source": [
    "df_test[['PassengerId', 'Survived']].to_csv('DecisionTree.csv', index=False)"
   ]
  }
 ],
 "metadata": {
  "kernelspec": {
   "display_name": "Python [default]",
   "language": "python",
   "name": "python3"
  },
  "language_info": {
   "codemirror_mode": {
    "name": "ipython",
    "version": 3
   },
   "file_extension": ".py",
   "mimetype": "text/x-python",
   "name": "python",
   "nbconvert_exporter": "python",
   "pygments_lexer": "ipython3",
   "version": "3.6.3"
  }
 },
 "nbformat": 4,
 "nbformat_minor": 1
}
